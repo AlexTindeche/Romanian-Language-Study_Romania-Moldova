{
 "cells": [
  {
   "cell_type": "code",
   "execution_count": 1,
   "metadata": {},
   "outputs": [],
   "source": [
    "\n",
    "\n",
    "'''\n",
    "    Normalization of Romanian text written in Moldova and Romania\n",
    "    Transform î -> â, ș -> ş, ț -> ţ\n",
    "'''\n",
    "\n",
    "# Collect all the text from the files\n",
    "\n",
    "import os\n",
    "import re\n",
    "import sqlite3\n",
    "\n",
    "romanian_texts = {}\n",
    "moldavian_texts = {}\n",
    "\n",
    "conn = sqlite3.connect('news.db')\n",
    "c = conn.cursor()\n",
    "\n",
    "c.execute('SELECT * FROM romania')\n",
    "rows = c.fetchall()\n",
    "for row in rows:\n",
    "    if row[4] not in romanian_texts:\n",
    "        romanian_texts[row[4]] = []\n",
    "    romanian_texts[row[4]].append(row[5])\n",
    "    \n",
    "c.execute('SELECT * FROM moldova WHERE newspaper != \"zugo\"')\n",
    "rows = c.fetchall()\n",
    "for row in rows:\n",
    "    if row[4] not in moldavian_texts:\n",
    "        moldavian_texts[row[4]] = []\n",
    "    moldavian_texts[row[4]].append(row[5])\n",
    "\n",
    "conn.close()\n",
    "\n",
    "all_texts = {\"romana\": [], \"moldova\": []}\n",
    "\n",
    "for key in romanian_texts:\n",
    "    all_texts[\"romana\"].extend(romanian_texts[key])\n",
    "\n",
    "    \n",
    "for key in moldavian_texts:\n",
    "    all_texts[\"moldova\"].extend(moldavian_texts[key])"
   ]
  },
  {
   "cell_type": "code",
   "execution_count": 2,
   "metadata": {},
   "outputs": [
    {
     "data": {
      "text/plain": [
       "' Caz revoltător în Constanța! Un bărbat de 83 de ani a fost surprins de o patrulă a jandarmilor în timp ce pretindea favoruri sexuale de la un grup de șase fete minore, în schimbul sumei de 100 de lei. Potrivit Inspectoratului de Jandarmi Județean Constanța, bărbatul de 83 de ani a fost surprins de către o echipă a jandarmilor în timp ce abordase un grup format din 6 fete minore. Întâmplarea a avut loc sâmbătă, 13 ianuarie 2023, în zona Gării Constanța.      Citește și: CAZ MONSTRUOS ÎN CAPITALĂ! UN PEDOFIL DE 45 DE ANI RACOLA MINORE DE PE TIKTOK. CE AU DESCOPERIT ANCHETATORII ÎN CASA BĂRBATULUI ESTE GREU DE CREZUT Bătrânul de 83 de ani este suspectat că pretindea favoruri sexuale de la minore După ce bătrânul le-a abordat pe minore, două dintre fete, în vârstă de 13, respectiv 15 ani, au devenit agitate și speriate, iar o patrulă a jandarmilor constănțeni, aflată în misiune, a observat comportamentul schimbat al fetelor, moment în care bărbatul a fost luat la întrebări. Bărbatul de 83 de ani a fost identificat de jandarmi și a fost predat polițiștilor, pentru continuarea cercetărilor.                  Locul de muncă pe care îl poți avea fără studii superioare, plătit cu...                   O recunoașteți? Acum este o femeie extrem de cunoscută în România!      “Sâmbătă, în jurul orei 14:30, o patrulă de jandarmi, aflată în misiune în zona Gării din Constanța, a observat un bărbat care a abordat un grup format din șase fete minore. Deoarece după incident fetele păreau agitate şi speriate, jandarmii le-au întrebat ce s-a întâmplat. Două dintre fete, în vârstă de 13, respectiv 15 ani, au povestit cum bărbatul a venit spre grupul lor şi le-a oferit suma de 100 de lei, cerând în schimb oferirea unor servicii sexuale”, au precizat reprezentanţii Inspectoratului de Jandarmi Judeţean Constanţa. Citește și: UN PEDOFIL CARE RACOLA MINORE ÎN BUCUREȘTI A FOST ARESTAT. ULTIMA VICTIMĂ A FOST O FATĂ DE 13 ANI                '"
      ]
     },
     "execution_count": 2,
     "metadata": {},
     "output_type": "execute_result"
    }
   ],
   "source": [
    "all_texts[\"romana\"][0]"
   ]
  },
  {
   "cell_type": "code",
   "execution_count": 3,
   "metadata": {},
   "outputs": [
    {
     "data": {
      "text/plain": [
       "' Caz revoltător ân Constanţa! Un bărbat de 83 de ani a fost surprins de o patrulă a jandarmilor ân timp ce pretindea favoruri sexuale de la un grup de şase fete minore, ân schimbul sumei de 100 de lei. Potrivit Inspectoratului de Jandarmi Judeţean Constanţa, bărbatul de 83 de ani a fost surprins de către o echipă a jandarmilor ân timp ce abordase un grup format din 6 fete minore. Ântâmplarea a avut loc sâmbătă, 13 ianuarie 2023, ân zona Gării Constanţa.      Citeşte şi: CAZ MONSTRUOS ÂN CAPITALĂ! UN PEDOFIL DE 45 DE ANI RACOLA MINORE DE PE TIKTOK. CE AU DESCOPERIT ANCHETATORII ÂN CASA BĂRBATULUI ESTE GREU DE CREZUT Bătrânul de 83 de ani este suspectat că pretindea favoruri sexuale de la minore După ce bătrânul le-a abordat pe minore, două dintre fete, ân vârstă de 13, respectiv 15 ani, au devenit agitate şi speriate, iar o patrulă a jandarmilor constănţeni, aflată ân misiune, a observat comportamentul schimbat al fetelor, moment ân care bărbatul a fost luat la ântrebări. Bărbatul de 83 de ani a fost identificat de jandarmi şi a fost predat poliţiştilor, pentru continuarea cercetărilor.                  Locul de muncă pe care âl poţi avea fără studii superioare, plătit cu...                   O recunoaşteţi? Acum este o femeie extrem de cunoscută ân România!      “Sâmbătă, ân jurul orei 14:30, o patrulă de jandarmi, aflată ân misiune ân zona Gării din Constanţa, a observat un bărbat care a abordat un grup format din şase fete minore. Deoarece după incident fetele păreau agitate şi speriate, jandarmii le-au ântrebat ce s-a ântâmplat. Două dintre fete, ân vârstă de 13, respectiv 15 ani, au povestit cum bărbatul a venit spre grupul lor şi le-a oferit suma de 100 de lei, cerând ân schimb oferirea unor servicii sexuale”, au precizat reprezentanţii Inspectoratului de Jandarmi Judeţean Constanţa. Citeşte şi: UN PEDOFIL CARE RACOLA MINORE ÂN BUCUREŞTI A FOST ARESTAT. ULTIMA VICTIMĂ A FOST O FATĂ DE 13 ANI                '"
      ]
     },
     "execution_count": 3,
     "metadata": {},
     "output_type": "execute_result"
    },
    {
     "ename": "",
     "evalue": "",
     "output_type": "error",
     "traceback": [
      "\u001b[1;31mThe Kernel crashed while executing code in the current cell or a previous cell. \n",
      "\u001b[1;31mPlease review the code in the cell(s) to identify a possible cause of the failure. \n",
      "\u001b[1;31mClick <a href='https://aka.ms/vscodeJupyterKernelCrash'>here</a> for more info. \n",
      "\u001b[1;31mView Jupyter <a href='command:jupyter.viewOutput'>log</a> for further details."
     ]
    }
   ],
   "source": [
    "# Transform î -> â, ș -> ş, ț -> ţ\n",
    "\n",
    "def normalize_text(text):\n",
    "    text = text.replace(\"î\", \"â\")\n",
    "    text = text.replace(\"Î\", \"Â\")\n",
    "    text = text.replace(\"ș\", \"ş\")\n",
    "    text = text.replace(\"Ș\", \"Ş\")\n",
    "    text = text.replace(\"ț\", \"ţ\")\n",
    "    text = text.replace(\"Ț\", \"Ţ\")\n",
    "    return text\n",
    "\n",
    "for key in all_texts:\n",
    "    for i in range(len(all_texts[key])):\n",
    "        all_texts[key][i] = normalize_text(all_texts[key][i])\n",
    "\n",
    "all_texts[\"romana\"][0]"
   ]
  }
 ],
 "metadata": {
  "kernelspec": {
   "display_name": "Python 3",
   "language": "python",
   "name": "python3"
  },
  "language_info": {
   "codemirror_mode": {
    "name": "ipython",
    "version": 3
   },
   "file_extension": ".py",
   "mimetype": "text/x-python",
   "name": "python",
   "nbconvert_exporter": "python",
   "pygments_lexer": "ipython3",
   "version": "3.11.9"
  }
 },
 "nbformat": 4,
 "nbformat_minor": 2
}
