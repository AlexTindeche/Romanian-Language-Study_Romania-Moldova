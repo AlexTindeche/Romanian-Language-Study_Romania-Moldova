{
 "cells": [
  {
   "cell_type": "code",
   "execution_count": 3,
   "metadata": {},
   "outputs": [],
   "source": [
    "import numpy as np\n",
    "import sqlite3\n",
    "from sklearn.model_selection import train_test_split, StratifiedShuffleSplit\n",
    "from sklearn.feature_extraction.text import TfidfVectorizer\n",
    "from sklearn.pipeline import Pipeline\n",
    "from sklearn.naive_bayes import MultinomialNB\n",
    "from sklearn.model_selection import GridSearchCV\n",
    "from sklearn.metrics import classification_report\n",
    "from stop_words import get_stop_words\n",
    "import shap\n",
    "import warnings\n",
    "\n",
    "warnings.filterwarnings(\"ignore\")"
   ]
  },
  {
   "cell_type": "code",
   "execution_count": 4,
   "metadata": {},
   "outputs": [
    {
     "name": "stdout",
     "output_type": "stream",
     "text": [
      "Romanian texts: 15\n",
      "Moldavian texts: 10\n"
     ]
    }
   ],
   "source": [
    "romanian_texts = {}\n",
    "moldavian_texts = {}\n",
    "\n",
    "conn = sqlite3.connect('news.db')\n",
    "c = conn.cursor()\n",
    "\n",
    "c.execute('SELECT * FROM romania')\n",
    "rows = c.fetchall()\n",
    "for row in rows:\n",
    "    if row[4] not in romanian_texts:\n",
    "        romanian_texts[row[4]] = []\n",
    "    romanian_texts[row[4]].append(row[5].strip())\n",
    "    \n",
    "print('Romanian texts:', len(romanian_texts))\n",
    "\n",
    "c.execute('SELECT * FROM moldova WHERE newspaper != \"zugo\"')\n",
    "rows = c.fetchall()\n",
    "for row in rows:\n",
    "    text = ''\n",
    "    if len(row[5]) > 10000:\n",
    "        text = row[5][:10000]\n",
    "    else:\n",
    "        text = row[5]\n",
    "    if row[4] not in moldavian_texts:\n",
    "        moldavian_texts[row[4]] = []\n",
    "        \n",
    "    moldavian_texts[row[4]].append(text)\n",
    "\n",
    "print('Moldavian texts:', len(moldavian_texts))\n",
    "\n",
    "conn.close()"
   ]
  },
  {
   "cell_type": "code",
   "execution_count": 5,
   "metadata": {},
   "outputs": [],
   "source": [
    "import random\n",
    "\n",
    "all_texts = {\"romana\": [], \"moldova\": []}\n",
    "\n",
    "for key in romanian_texts:\n",
    "    all_texts[\"romana\"].extend(romanian_texts[key])\n",
    "\n",
    "for key in moldavian_texts:\n",
    "    all_texts[\"moldova\"].extend(moldavian_texts[key])\n",
    "\n",
    "# Get the number of Romanian articles\n",
    "num_romanian_articles = len(all_texts[\"romana\"])\n",
    "\n",
    "# Randomly sample the same number of Moldavian articles\n",
    "all_texts[\"moldova\"] = random.sample(all_texts[\"moldova\"], num_romanian_articles)\n",
    "\n",
    "X = []\n",
    "y = []\n",
    "for key in all_texts:\n",
    "    X.extend(all_texts[key])\n",
    "    y.extend([key]*len(all_texts[key]))\n",
    "    \n",
    "X = np.array(X)\n",
    "y = np.array(y)"
   ]
  },
  {
   "cell_type": "code",
   "execution_count": 6,
   "metadata": {},
   "outputs": [],
   "source": [
    "from sklearn.linear_model import LogisticRegression\n",
    "\n",
    "sss = StratifiedShuffleSplit(n_splits=5, test_size=0.1, random_state=11)\n",
    "text_clf = Pipeline(steps=[\n",
    "        ('tfidf', TfidfVectorizer(min_df=3, max_df=0.7, max_features=10000, stop_words=get_stop_words('ro'))),\n",
    "        ('clf', LogisticRegression(penalty='l2'))\n",
    "    ], verbose=True)\n",
    "parameters = {\n",
    "    'tfidf__ngram_range': [(1, 4)],\n",
    "    'tfidf__use_idf': (True, False),\n",
    "    'clf__C': (0.1, 1, 10),\n",
    "}\n",
    "gs_clf = GridSearchCV(text_clf, parameters, cv=sss, n_jobs=-1, verbose=1)"
   ]
  },
  {
   "cell_type": "code",
   "execution_count": 7,
   "metadata": {},
   "outputs": [
    {
     "name": "stdout",
     "output_type": "stream",
     "text": [
      "Train:  romana =  916  moldova =  916\n",
      "Test: 102 102\n",
      "Train:  romana =  916  moldova =  916\n",
      "Test: 102 102\n",
      "Train:  romana =  916  moldova =  916\n",
      "Test: 102 102\n"
     ]
    }
   ],
   "source": [
    "# plot the first 10 elements of the dataset\n",
    "for train_index, test_index in sss.split(X, y):\n",
    "    X_train, X_test = X[train_index], X[test_index]\n",
    "    y_train, y_test = y[train_index], y[test_index]\n",
    "    # print how many samples from each class are in the training and testing set\n",
    "    print('Train:', ' romana = ', np.count_nonzero(y_train == 'romana'), ' moldova = ', np.count_nonzero(y_train == 'moldova'))\n",
    "    print('Test:', np.count_nonzero(y_test == 'romana'), np.count_nonzero(y_test == 'moldova'))"
   ]
  },
  {
   "cell_type": "code",
   "execution_count": 8,
   "metadata": {},
   "outputs": [
    {
     "name": "stdout",
     "output_type": "stream",
     "text": [
      "[Pipeline] ............. (step 1 of 2) Processing tfidf, total=   0.4s\n",
      "[Pipeline] ............... (step 2 of 2) Processing clf, total=   0.1s\n",
      "Fitting 5 folds for each of 6 candidates, totalling 30 fits\n",
      "[Pipeline] ............. (step 1 of 2) Processing tfidf, total=   4.0s\n",
      "[Pipeline] ............... (step 2 of 2) Processing clf, total=   0.1s\n",
      "[Pipeline] ............. (step 1 of 2) Processing tfidf, total=   0.4s\n",
      "[Pipeline] ............... (step 2 of 2) Processing clf, total=   0.1s\n",
      "Fitting 5 folds for each of 6 candidates, totalling 30 fits\n",
      "[Pipeline] ............. (step 1 of 2) Processing tfidf, total=   4.1s\n",
      "[Pipeline] ............... (step 2 of 2) Processing clf, total=   0.1s\n",
      "[Pipeline] ............. (step 1 of 2) Processing tfidf, total=   0.4s\n",
      "[Pipeline] ............... (step 2 of 2) Processing clf, total=   0.1s\n",
      "Fitting 5 folds for each of 6 candidates, totalling 30 fits\n",
      "[Pipeline] ............. (step 1 of 2) Processing tfidf, total=   4.2s\n",
      "[Pipeline] ............... (step 2 of 2) Processing clf, total=   0.1s\n"
     ]
    }
   ],
   "source": [
    "scores = []\n",
    "gs_scores = []\n",
    "\n",
    "for train_index, test_index in sss.split(X, y):\n",
    "    X_train, X_test = X[train_index], X[test_index]\n",
    "    y_train, y_test = y[train_index], y[test_index]   \n",
    "    \n",
    "    text_clf = text_clf.fit(X_train, y_train)\n",
    "    scores.append(text_clf.score(X_test, y_test))\n",
    "    \n",
    "    gs_clf = gs_clf.fit(X_train, y_train)\n",
    "    gs_scores.append(gs_clf.score(X_test, y_test))"
   ]
  },
  {
   "cell_type": "code",
   "execution_count": 9,
   "metadata": {},
   "outputs": [
    {
     "name": "stdout",
     "output_type": "stream",
     "text": [
      "Mean score:  0.988562091503268\n",
      "Mean grid search score:  0.9934640522875817\n",
      "Best parameters:  {'clf__C': 10, 'tfidf__ngram_range': (1, 4), 'tfidf__use_idf': False}\n",
      "Best score:  0.9983621446970712\n",
      "Classification report:                precision    recall  f1-score   support\n",
      "\n",
      "     moldova       0.98      1.00      0.99       102\n",
      "      romana       1.00      0.98      0.99       102\n",
      "\n",
      "    accuracy                           0.99       204\n",
      "   macro avg       0.99      0.99      0.99       204\n",
      "weighted avg       0.99      0.99      0.99       204\n",
      "\n"
     ]
    }
   ],
   "source": [
    "print(\"Mean score: \", np.mean(scores))\n",
    "print(\"Mean grid search score: \", np.mean(gs_scores))\n",
    "print(\"Best parameters: \", gs_clf.best_params_)\n",
    "print(\"Best score: \", gs_clf.best_score_)\n",
    "print(\"Classification report: \", classification_report(y_test, gs_clf.predict(X_test), ))"
   ]
  },
  {
   "cell_type": "code",
   "execution_count": 95,
   "metadata": {},
   "outputs": [
    {
     "name": "stdout",
     "output_type": "stream",
     "text": [
      "Text:  \"Ți-am pregătit un program special si te așteptăm cu familia să descoperi expozițiile și programele dedicate! 13.00- 14.30- Ateliere de creație penru copii “Lacul codrilor albaștri”- coordonator Luminița Voica 14.00- 14.10- Vernisajul expoziției de fotografie “Patria mea, limba română”. Expoziția aparține editurii Princeps din Ploiești. Vor fi expuse 80 de fotografii ale poetului Nichita Stănescu- Foaier Sala Victor Ioan Popa 14.10- 14.20- vizionarea filmului realizat la Ploiești, la Teatrul Toma Caragiu, În Memoriam Nichita Stănescu 14.20- 14.30- “Pe lângă plopii fără soț”- moment artistic realizat de studenții UNATC         14.30-14.50- “O, rămâi!” recital de cântec și poezie în interpretarea Ansamblului Fluierasii de la Merisani 14.50-15.00- “Pe lângă plopii fără soț”- moment artistic realizat de studenții UNATC 15.00-15.20- “Stelele-n cer”- recital al reprezentantilor Asociației ArtPulse, studenți la Universitatea Națională de Muzică din București la clasele de canto conf.univ.dr. Iulia Isaev, respectiv conf.univ.dr. Claudia Codreanu. 15.20- 15.40- Vernisajul expoziției “ Sub semnul marelui Eminescu”- Vor fi expuse lucrări ale artiștilor plastici, membrii ai Asociației Filiala Artă Plastică Religioasă și Restaurare\", anunţă reprezentanţii Muzeului Naţional al Satului \"Dimitrie Gusti\", pe Facebook.   Ce faci pe 15 ianuarie? Hai la Muzeul National al Satului \"Dimitrie Gusti\"! Toate muzeele din subordinea Ministerului...Publicată de Muzeul National al Satului \"Dimitrie Gusti\" pe Marţi, 9 ianuarie 2024 Accesul va fi gratuit pentru toate categoriile de vizitatori \"Dragi vizitatori, Cu ocazia Zilei Culturii Naționale, luni, 15 ianuarie 2024, Muzeul Național de Istorie a României va fi deschis pentru public, iar accesul va fi gratuit pentru toate categoriile de vizitatori\", este anunţul reprezentanţilor Muzeului Naţional de Istorie a României. Vă reamintim că programul de vizitare este cuprins în intervalul orar 09:00 – 17:00, cu ultima intrare la 16:15. Dragi vizitatori, Cu ocazia Zilei Culturii Naționale, luni, 15 ianuarie 2024, Muzeul Național de Istorie a României va...Publicată de Muzeul Național de Istorie a României pe Joi, 4 ianuarie 2024\n",
      "Real:  romana\n",
      "Predicted:  moldova\n",
      "Index of the text:  (array([70], dtype=int64),)  Out of  204\n",
      "Text:  Zborul 1182 All Nippon Airways face legătura internă între aeroporturile Sapporo-New Chitose și Toyama. Crăpătura a fost găsită pe al patrulea strat al geamului exterior din jurul cockpitului, a declarat un purtător de cuvânt al companiei aeriene japoneze, potrivit Sky News.  \"Crăpătura nu a afectat controlul sau presurizarea”, a spus purtătorul de cuvânt. La bord se aflau 59 de pasageri și șase membri ai echipajului. Nimeni nu a fost rănit, a adăugat purtătorul de cuvânt.\n",
      "Real:  romana\n",
      "Predicted:  moldova\n",
      "Index of the text:  (array([118], dtype=int64),)  Out of  204\n"
     ]
    }
   ],
   "source": [
    "missclassified = []\n",
    "for i in range(len(y_test)):\n",
    "    if y_test[i] != gs_clf.predict(X_test)[i]:\n",
    "        missclassified.append((X_test[i], y_test[i], gs_clf.predict(X_test)[i]))\n",
    "        if len(missclassified) == 5:\n",
    "            break\n",
    "        \n",
    "for text, real, predicted in missclassified:\n",
    "    print(\"Text: \", text)\n",
    "    print(\"Real: \", real)\n",
    "    print(\"Predicted: \", predicted)\n",
    "    print(\"Index of the text: \", np.where(X_test == text), \" Out of \", len(X_test))"
   ]
  },
  {
   "cell_type": "code",
   "execution_count": 93,
   "metadata": {},
   "outputs": [
    {
     "name": "stdout",
     "output_type": "stream",
     "text": [
      "Real:  moldova  Predicted:  moldova  Probability:  [0.99155768 0.00844232]\n",
      "Real:  romana  Predicted:  romana  Probability:  [4.15249373e-04 9.99584751e-01]\n",
      "Real:  romana  Predicted:  romana  Probability:  [0.03309088 0.96690912]\n",
      "Real:  moldova  Predicted:  moldova  Probability:  [0.99105281 0.00894719]\n",
      "Real:  moldova  Predicted:  moldova  Probability:  [0.99710053 0.00289947]\n",
      "Real:  romana  Predicted:  romana  Probability:  [5.03690747e-05 9.99949631e-01]\n",
      "Real:  moldova  Predicted:  moldova  Probability:  [0.99414968 0.00585032]\n",
      "Real:  romana  Predicted:  romana  Probability:  [3.56981095e-04 9.99643019e-01]\n",
      "Real:  moldova  Predicted:  moldova  Probability:  [0.99410219 0.00589781]\n",
      "Real:  romana  Predicted:  romana  Probability:  [1.39824879e-04 9.99860175e-01]\n",
      "Real:  romana  Predicted:  romana  Probability:  [3.13818981e-04 9.99686181e-01]\n",
      "Real:  moldova  Predicted:  moldova  Probability:  [0.99125134 0.00874866]\n",
      "Real:  moldova  Predicted:  moldova  Probability:  [0.98364773 0.01635227]\n",
      "Real:  moldova  Predicted:  moldova  Probability:  [0.99560015 0.00439985]\n",
      "Real:  moldova  Predicted:  moldova  Probability:  [0.99285633 0.00714367]\n",
      "Real:  romana  Predicted:  romana  Probability:  [1.97407342e-05 9.99980259e-01]\n",
      "Real:  moldova  Predicted:  moldova  Probability:  [0.99410933 0.00589067]\n",
      "Real:  moldova  Predicted:  moldova  Probability:  [0.99636559 0.00363441]\n",
      "Real:  romana  Predicted:  romana  Probability:  [3.48163668e-05 9.99965184e-01]\n",
      "Real:  romana  Predicted:  romana  Probability:  [0.00347813 0.99652187]\n",
      "Real:  moldova  Predicted:  moldova  Probability:  [0.99390044 0.00609956]\n",
      "Real:  romana  Predicted:  romana  Probability:  [0.00702302 0.99297698]\n",
      "Real:  romana  Predicted:  romana  Probability:  [8.48645637e-05 9.99915135e-01]\n",
      "Real:  moldova  Predicted:  moldova  Probability:  [0.99533107 0.00466893]\n",
      "Real:  romana  Predicted:  romana  Probability:  [0.02376236 0.97623764]\n",
      "Real:  moldova  Predicted:  moldova  Probability:  [0.98966516 0.01033484]\n",
      "Real:  moldova  Predicted:  moldova  Probability:  [0.99118746 0.00881254]\n",
      "Real:  romana  Predicted:  romana  Probability:  [8.54013911e-05 9.99914599e-01]\n",
      "Real:  moldova  Predicted:  moldova  Probability:  [0.99002819 0.00997181]\n",
      "Real:  moldova  Predicted:  moldova  Probability:  [0.99168411 0.00831589]\n",
      "Real:  moldova  Predicted:  moldova  Probability:  [0.98732848 0.01267152]\n",
      "Real:  moldova  Predicted:  moldova  Probability:  [0.99475754 0.00524246]\n",
      "Real:  moldova  Predicted:  moldova  Probability:  [0.98848712 0.01151288]\n",
      "Real:  moldova  Predicted:  moldova  Probability:  [0.9889212 0.0110788]\n",
      "Real:  romana  Predicted:  romana  Probability:  [1.23411766e-04 9.99876588e-01]\n",
      "Real:  moldova  Predicted:  moldova  Probability:  [0.9905034 0.0094966]\n",
      "Real:  romana  Predicted:  romana  Probability:  [0.14033079 0.85966921]\n",
      "Real:  moldova  Predicted:  moldova  Probability:  [0.99614536 0.00385464]\n",
      "Real:  moldova  Predicted:  moldova  Probability:  [0.99282287 0.00717713]\n",
      "Real:  romana  Predicted:  romana  Probability:  [1.28392314e-05 9.99987161e-01]\n",
      "Real:  romana  Predicted:  romana  Probability:  [0.00128092 0.99871908]\n",
      "Real:  romana  Predicted:  romana  Probability:  [0.01335326 0.98664674]\n",
      "Real:  romana  Predicted:  romana  Probability:  [5.06718357e-05 9.99949328e-01]\n",
      "Real:  romana  Predicted:  romana  Probability:  [2.4276008e-04 9.9975724e-01]\n",
      "Real:  moldova  Predicted:  moldova  Probability:  [0.99716429 0.00283571]\n",
      "Real:  romana  Predicted:  romana  Probability:  [8.68495091e-04 9.99131505e-01]\n",
      "Real:  romana  Predicted:  romana  Probability:  [0.00268839 0.99731161]\n",
      "Real:  moldova  Predicted:  moldova  Probability:  [0.99269424 0.00730576]\n",
      "Real:  romana  Predicted:  romana  Probability:  [6.05696092e-04 9.99394304e-01]\n",
      "Real:  moldova  Predicted:  moldova  Probability:  [0.99382942 0.00617058]\n",
      "Real:  moldova  Predicted:  moldova  Probability:  [0.98953014 0.01046986]\n",
      "Real:  moldova  Predicted:  moldova  Probability:  [0.99493222 0.00506778]\n",
      "Real:  romana  Predicted:  romana  Probability:  [5.82740173e-04 9.99417260e-01]\n",
      "Real:  romana  Predicted:  romana  Probability:  [0.01118915 0.98881085]\n",
      "Real:  romana  Predicted:  romana  Probability:  [8.53291529e-05 9.99914671e-01]\n",
      "Real:  romana  Predicted:  romana  Probability:  [1.32925954e-04 9.99867074e-01]\n",
      "Real:  moldova  Predicted:  moldova  Probability:  [0.99358332 0.00641668]\n",
      "Real:  romana  Predicted:  romana  Probability:  [6.31436264e-04 9.99368564e-01]\n",
      "Real:  romana  Predicted:  romana  Probability:  [7.46783624e-05 9.99925322e-01]\n",
      "Real:  moldova  Predicted:  moldova  Probability:  [0.99526226 0.00473774]\n",
      "Real:  moldova  Predicted:  moldova  Probability:  [0.98998024 0.01001976]\n",
      "Real:  moldova  Predicted:  moldova  Probability:  [0.99266681 0.00733319]\n",
      "Real:  romana  Predicted:  romana  Probability:  [0.00681177 0.99318823]\n",
      "Real:  moldova  Predicted:  moldova  Probability:  [0.97626545 0.02373455]\n",
      "Real:  romana  Predicted:  romana  Probability:  [7.41635252e-05 9.99925836e-01]\n",
      "Real:  romana  Predicted:  romana  Probability:  [0.00126332 0.99873668]\n",
      "Real:  romana  Predicted:  romana  Probability:  [0.01949373 0.98050627]\n",
      "Real:  romana  Predicted:  romana  Probability:  [1.57620853e-04 9.99842379e-01]\n",
      "Real:  moldova  Predicted:  moldova  Probability:  [0.99185804 0.00814196]\n",
      "Real:  moldova  Predicted:  moldova  Probability:  [0.99214265 0.00785735]\n",
      "Real:  romana  Predicted:  moldova  Probability:  [0.55504478 0.44495522]\n",
      "_____________________\n",
      "Real:  moldova  Predicted:  moldova  Probability:  [0.99601229 0.00398771]\n",
      "Real:  romana  Predicted:  romana  Probability:  [3.44610288e-05 9.99965539e-01]\n",
      "Real:  moldova  Predicted:  moldova  Probability:  [0.98880548 0.01119452]\n",
      "Real:  moldova  Predicted:  moldova  Probability:  [0.99755476 0.00244524]\n",
      "Real:  moldova  Predicted:  moldova  Probability:  [0.99507463 0.00492537]\n",
      "Real:  moldova  Predicted:  moldova  Probability:  [0.99423892 0.00576108]\n",
      "Real:  romana  Predicted:  romana  Probability:  [4.70406537e-05 9.99952959e-01]\n",
      "Real:  romana  Predicted:  romana  Probability:  [9.24031078e-04 9.99075969e-01]\n",
      "Real:  romana  Predicted:  romana  Probability:  [0.001372 0.998628]\n",
      "Real:  romana  Predicted:  romana  Probability:  [1.00547342e-04 9.99899453e-01]\n",
      "Real:  moldova  Predicted:  moldova  Probability:  [0.99223015 0.00776985]\n",
      "Real:  moldova  Predicted:  moldova  Probability:  [0.99228004 0.00771996]\n",
      "Real:  moldova  Predicted:  moldova  Probability:  [0.99642234 0.00357766]\n",
      "Real:  moldova  Predicted:  moldova  Probability:  [0.99527117 0.00472883]\n",
      "Real:  moldova  Predicted:  moldova  Probability:  [0.9968839 0.0031161]\n",
      "Real:  moldova  Predicted:  moldova  Probability:  [0.99732536 0.00267464]\n",
      "Real:  romana  Predicted:  romana  Probability:  [0.00267485 0.99732515]\n",
      "Real:  romana  Predicted:  romana  Probability:  [9.34905858e-04 9.99065094e-01]\n",
      "Real:  romana  Predicted:  romana  Probability:  [1.01972035e-04 9.99898028e-01]\n",
      "Real:  romana  Predicted:  romana  Probability:  [5.40137029e-04 9.99459863e-01]\n",
      "Real:  moldova  Predicted:  moldova  Probability:  [0.99570683 0.00429317]\n",
      "Real:  moldova  Predicted:  moldova  Probability:  [0.99355917 0.00644083]\n",
      "Real:  romana  Predicted:  romana  Probability:  [1.21957023e-04 9.99878043e-01]\n",
      "Real:  romana  Predicted:  romana  Probability:  [0.00189836 0.99810164]\n",
      "Real:  romana  Predicted:  romana  Probability:  [2.67519964e-04 9.99732480e-01]\n",
      "Real:  romana  Predicted:  romana  Probability:  [1.44698528e-04 9.99855301e-01]\n",
      "Real:  moldova  Predicted:  moldova  Probability:  [0.99400569 0.00599431]\n",
      "Real:  romana  Predicted:  romana  Probability:  [2.90168590e-04 9.99709831e-01]\n",
      "Real:  moldova  Predicted:  moldova  Probability:  [0.99618428 0.00381572]\n"
     ]
    }
   ],
   "source": [
    "# Predict first 10 elements of the test set\n",
    "for i in range(len(y_test[:100])):\n",
    "    prediction = gs_clf.predict([X_test[i]])[0]\n",
    "    print(\"Real: \", y_test[i], \" Predicted: \", prediction, \" Probability: \", gs_clf.predict_proba([X_test[i]])[0])\n",
    "    if y_test[i] != prediction:\n",
    "        print(\"_____________________\")\n"
   ]
  }
 ],
 "metadata": {
  "kernelspec": {
   "display_name": "venv",
   "language": "python",
   "name": "python3"
  },
  "language_info": {
   "codemirror_mode": {
    "name": "ipython",
    "version": 3
   },
   "file_extension": ".py",
   "mimetype": "text/x-python",
   "name": "python",
   "nbconvert_exporter": "python",
   "pygments_lexer": "ipython3",
   "version": "3.11.5"
  }
 },
 "nbformat": 4,
 "nbformat_minor": 2
}
