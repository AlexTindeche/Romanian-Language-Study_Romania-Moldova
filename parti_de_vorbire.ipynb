{
 "cells": [
  {
   "cell_type": "code",
   "execution_count": 1,
   "metadata": {},
   "outputs": [
    {
     "name": "stderr",
     "output_type": "stream",
     "text": [
      "IProgress not found. Please update jupyter and ipywidgets. See https://ipywidgets.readthedocs.io/en/stable/user_install.html\n"
     ]
    }
   ],
   "source": [
    "import numpy as np\n",
    "import sqlite3\n",
    "from sklearn.model_selection import train_test_split, StratifiedShuffleSplit\n",
    "from sklearn.feature_extraction.text import TfidfVectorizer\n",
    "from sklearn.feature_extraction.text import CountVectorizer\n",
    "from sklearn.pipeline import Pipeline\n",
    "from sklearn.naive_bayes import MultinomialNB\n",
    "from sklearn.model_selection import GridSearchCV\n",
    "from sklearn.metrics import classification_report\n",
    "from stop_words import get_stop_words\n",
    "import shap\n",
    "import warnings\n",
    "\n",
    "warnings.filterwarnings(\"ignore\")"
   ]
  },
  {
   "cell_type": "code",
   "execution_count": 2,
   "metadata": {},
   "outputs": [],
   "source": [
    "romanian_texts = {}\n",
    "moldavian_texts = {}\n",
    "\n",
    "conn = sqlite3.connect('news.db')\n",
    "c = conn.cursor()\n",
    "\n",
    "c.execute('SELECT * FROM romania')\n",
    "rows = c.fetchall()\n",
    "for row in rows:\n",
    "    if row[4] not in romanian_texts:\n",
    "        romanian_texts[row[4]] = []\n",
    "    romanian_texts[row[4]].append(row[5])\n",
    "    \n",
    "c.execute('SELECT * FROM moldova WHERE newspaper != \"zugo\"')\n",
    "rows = c.fetchall()\n",
    "for row in rows:\n",
    "    text = ''\n",
    "    if len(row[5]) > 10000:\n",
    "        text = row[5][:10000]\n",
    "    else:\n",
    "        text = row[5]\n",
    "    if row[4] not in moldavian_texts:\n",
    "        moldavian_texts[row[4]] = []\n",
    "        \n",
    "    moldavian_texts[row[4]].append(text)\n",
    "\n",
    "conn.close()"
   ]
  },
  {
   "cell_type": "code",
   "execution_count": 3,
   "metadata": {},
   "outputs": [],
   "source": [
    "all_texts = {\"romana\": [], \"moldova\": []}\n",
    "\n",
    "for key in romanian_texts:\n",
    "    all_texts[\"romana\"].extend(romanian_texts[key])\n",
    "\n",
    "    \n",
    "for key in moldavian_texts:\n",
    "    all_texts[\"moldova\"].extend(moldavian_texts[key])\n",
    "    "
   ]
  },
  {
   "cell_type": "code",
   "execution_count": 4,
   "metadata": {},
   "outputs": [
    {
     "name": "stdout",
     "output_type": "stream",
     "text": [
      "Collecting ro-core-news-md==3.7.0\n",
      "  Downloading https://github.com/explosion/spacy-models/releases/download/ro_core_news_md-3.7.0/ro_core_news_md-3.7.0-py3-none-any.whl (42.5 MB)\n",
      "\u001b[2K     \u001b[90m━━━━━━━━━━━━━━━━━━━━━━━━━━━━━━━━━━━━━━━━\u001b[0m \u001b[32m42.5/42.5 MB\u001b[0m \u001b[31m3.7 MB/s\u001b[0m eta \u001b[36m0:00:00\u001b[0m00:01\u001b[0m00:01\u001b[0m\n",
      "\u001b[?25hRequirement already satisfied: spacy<3.8.0,>=3.7.0 in ./venv/lib/python3.10/site-packages (from ro-core-news-md==3.7.0) (3.7.2)\n",
      "Requirement already satisfied: langcodes<4.0.0,>=3.2.0 in ./venv/lib/python3.10/site-packages (from spacy<3.8.0,>=3.7.0->ro-core-news-md==3.7.0) (3.3.0)\n",
      "Requirement already satisfied: tqdm<5.0.0,>=4.38.0 in ./venv/lib/python3.10/site-packages (from spacy<3.8.0,>=3.7.0->ro-core-news-md==3.7.0) (4.65.0)\n",
      "Requirement already satisfied: setuptools in ./venv/lib/python3.10/site-packages (from spacy<3.8.0,>=3.7.0->ro-core-news-md==3.7.0) (67.7.2)\n",
      "Requirement already satisfied: wasabi<1.2.0,>=0.9.1 in ./venv/lib/python3.10/site-packages (from spacy<3.8.0,>=3.7.0->ro-core-news-md==3.7.0) (1.1.2)\n",
      "Requirement already satisfied: thinc<8.3.0,>=8.1.8 in ./venv/lib/python3.10/site-packages (from spacy<3.8.0,>=3.7.0->ro-core-news-md==3.7.0) (8.2.2)\n",
      "Requirement already satisfied: numpy>=1.19.0 in ./venv/lib/python3.10/site-packages (from spacy<3.8.0,>=3.7.0->ro-core-news-md==3.7.0) (1.25.0)\n",
      "Requirement already satisfied: catalogue<2.1.0,>=2.0.6 in ./venv/lib/python3.10/site-packages (from spacy<3.8.0,>=3.7.0->ro-core-news-md==3.7.0) (2.0.10)\n",
      "Requirement already satisfied: typer<0.10.0,>=0.3.0 in ./venv/lib/python3.10/site-packages (from spacy<3.8.0,>=3.7.0->ro-core-news-md==3.7.0) (0.9.0)\n",
      "Requirement already satisfied: cymem<2.1.0,>=2.0.2 in ./venv/lib/python3.10/site-packages (from spacy<3.8.0,>=3.7.0->ro-core-news-md==3.7.0) (2.0.8)\n",
      "Requirement already satisfied: preshed<3.1.0,>=3.0.2 in ./venv/lib/python3.10/site-packages (from spacy<3.8.0,>=3.7.0->ro-core-news-md==3.7.0) (3.0.9)\n",
      "Requirement already satisfied: packaging>=20.0 in ./venv/lib/python3.10/site-packages (from spacy<3.8.0,>=3.7.0->ro-core-news-md==3.7.0) (23.2)\n",
      "Requirement already satisfied: pydantic!=1.8,!=1.8.1,<3.0.0,>=1.7.4 in ./venv/lib/python3.10/site-packages (from spacy<3.8.0,>=3.7.0->ro-core-news-md==3.7.0) (2.6.0)\n",
      "Requirement already satisfied: jinja2 in ./venv/lib/python3.10/site-packages (from spacy<3.8.0,>=3.7.0->ro-core-news-md==3.7.0) (3.1.3)\n",
      "Requirement already satisfied: requests<3.0.0,>=2.13.0 in ./venv/lib/python3.10/site-packages (from spacy<3.8.0,>=3.7.0->ro-core-news-md==3.7.0) (2.31.0)\n",
      "Requirement already satisfied: srsly<3.0.0,>=2.4.3 in ./venv/lib/python3.10/site-packages (from spacy<3.8.0,>=3.7.0->ro-core-news-md==3.7.0) (2.4.8)\n",
      "Requirement already satisfied: smart-open<7.0.0,>=5.2.1 in ./venv/lib/python3.10/site-packages (from spacy<3.8.0,>=3.7.0->ro-core-news-md==3.7.0) (6.4.0)\n",
      "Requirement already satisfied: spacy-loggers<2.0.0,>=1.0.0 in ./venv/lib/python3.10/site-packages (from spacy<3.8.0,>=3.7.0->ro-core-news-md==3.7.0) (1.0.5)\n",
      "Requirement already satisfied: murmurhash<1.1.0,>=0.28.0 in ./venv/lib/python3.10/site-packages (from spacy<3.8.0,>=3.7.0->ro-core-news-md==3.7.0) (1.0.10)\n",
      "Requirement already satisfied: spacy-legacy<3.1.0,>=3.0.11 in ./venv/lib/python3.10/site-packages (from spacy<3.8.0,>=3.7.0->ro-core-news-md==3.7.0) (3.0.12)\n",
      "Requirement already satisfied: weasel<0.4.0,>=0.1.0 in ./venv/lib/python3.10/site-packages (from spacy<3.8.0,>=3.7.0->ro-core-news-md==3.7.0) (0.3.4)\n",
      "Requirement already satisfied: typing-extensions>=4.6.1 in ./venv/lib/python3.10/site-packages (from pydantic!=1.8,!=1.8.1,<3.0.0,>=1.7.4->spacy<3.8.0,>=3.7.0->ro-core-news-md==3.7.0) (4.9.0)\n",
      "Requirement already satisfied: annotated-types>=0.4.0 in ./venv/lib/python3.10/site-packages (from pydantic!=1.8,!=1.8.1,<3.0.0,>=1.7.4->spacy<3.8.0,>=3.7.0->ro-core-news-md==3.7.0) (0.6.0)\n",
      "Requirement already satisfied: pydantic-core==2.16.1 in ./venv/lib/python3.10/site-packages (from pydantic!=1.8,!=1.8.1,<3.0.0,>=1.7.4->spacy<3.8.0,>=3.7.0->ro-core-news-md==3.7.0) (2.16.1)\n",
      "Requirement already satisfied: charset-normalizer<4,>=2 in ./venv/lib/python3.10/site-packages (from requests<3.0.0,>=2.13.0->spacy<3.8.0,>=3.7.0->ro-core-news-md==3.7.0) (3.3.2)\n",
      "Requirement already satisfied: certifi>=2017.4.17 in ./venv/lib/python3.10/site-packages (from requests<3.0.0,>=2.13.0->spacy<3.8.0,>=3.7.0->ro-core-news-md==3.7.0) (2024.2.2)\n",
      "Requirement already satisfied: idna<4,>=2.5 in ./venv/lib/python3.10/site-packages (from requests<3.0.0,>=2.13.0->spacy<3.8.0,>=3.7.0->ro-core-news-md==3.7.0) (3.6)\n",
      "Requirement already satisfied: urllib3<3,>=1.21.1 in ./venv/lib/python3.10/site-packages (from requests<3.0.0,>=2.13.0->spacy<3.8.0,>=3.7.0->ro-core-news-md==3.7.0) (2.2.0)\n",
      "Requirement already satisfied: confection<1.0.0,>=0.0.1 in ./venv/lib/python3.10/site-packages (from thinc<8.3.0,>=8.1.8->spacy<3.8.0,>=3.7.0->ro-core-news-md==3.7.0) (0.1.4)\n",
      "Requirement already satisfied: blis<0.8.0,>=0.7.8 in ./venv/lib/python3.10/site-packages (from thinc<8.3.0,>=8.1.8->spacy<3.8.0,>=3.7.0->ro-core-news-md==3.7.0) (0.7.11)\n",
      "Requirement already satisfied: click<9.0.0,>=7.1.1 in ./venv/lib/python3.10/site-packages (from typer<0.10.0,>=0.3.0->spacy<3.8.0,>=3.7.0->ro-core-news-md==3.7.0) (8.1.7)\n",
      "Requirement already satisfied: cloudpathlib<0.17.0,>=0.7.0 in ./venv/lib/python3.10/site-packages (from weasel<0.4.0,>=0.1.0->spacy<3.8.0,>=3.7.0->ro-core-news-md==3.7.0) (0.16.0)\n",
      "Requirement already satisfied: MarkupSafe>=2.0 in ./venv/lib/python3.10/site-packages (from jinja2->spacy<3.8.0,>=3.7.0->ro-core-news-md==3.7.0) (2.1.5)\n",
      "\u001b[38;5;2m✔ Download and installation successful\u001b[0m\n",
      "You can now load the package via spacy.load('ro_core_news_md')\n"
     ]
    }
   ],
   "source": [
    "!python -m spacy download ro_core_news_md"
   ]
  },
  {
   "cell_type": "code",
   "execution_count": 5,
   "metadata": {},
   "outputs": [],
   "source": [
    "# Extract most common parts of speech with spacy\n",
    "import spacy\n",
    "\n",
    "nlp = spacy.load('ro_core_news_md')\n",
    "\n",
    "def get_most_common_pos(texts, n=10):\n",
    "    pos = {}\n",
    "    tokenized_texts = []\n",
    "    for text in texts:\n",
    "        doc = nlp(text)\n",
    "        for token in doc:\n",
    "            if token.pos_ not in pos:\n",
    "                pos[token.pos_] = 0\n",
    "            pos[token.pos_] += 1\n",
    "            \n",
    "        tokenized_texts.append([token.pos_ for token in doc])\n",
    "        \n",
    "    return [sorted(pos.items(), key=lambda x: x[1], reverse=True)[:n], tokenized_texts]\n",
    "\n",
    "mc_romana, tk_romana = get_most_common_pos(all_texts[\"romana\"])\n",
    "mc_moldova, tk_moldova = get_most_common_pos(all_texts[\"moldova\"])"
   ]
  },
  {
   "cell_type": "code",
   "execution_count": 6,
   "metadata": {},
   "outputs": [
    {
     "name": "stdout",
     "output_type": "stream",
     "text": [
      "Fitting 3 folds for each of 4 candidates, totalling 12 fits\n",
      "Fitting 3 folds for each of 4 candidates, totalling 12 fits\n",
      "Fitting 3 folds for each of 4 candidates, totalling 12 fits\n"
     ]
    }
   ],
   "source": [
    "X = tk_romana + tk_moldova\n",
    "y = [\"romana\"] * len(tk_romana) + [\"moldova\"] * len(tk_moldova)\n",
    "\n",
    "X = np.array([' '.join(tag) for tag in X])\n",
    "y = np.array(y)\n",
    "\n",
    "X_train, X_test, y_train, y_test = train_test_split(X, y, test_size=0.2, random_state=1)\n",
    "\n",
    "sss = StratifiedShuffleSplit(n_splits=3, test_size=0.1, random_state=11)\n",
    "\n",
    "text_clf = Pipeline([\n",
    "    ('tfidf', TfidfVectorizer()),\n",
    "    ('clf', MultinomialNB())\n",
    "])\n",
    "\n",
    "parameters = {\n",
    "    'tfidf__use_idf': (True, False),\n",
    "    'clf__alpha': (0.01, 0.001)\n",
    "}\n",
    "\n",
    "gs_clf = GridSearchCV(text_clf, parameters, cv=sss, n_jobs=-1, verbose=1)\n",
    "\n",
    "scores = []\n",
    "gs_scores = []\n",
    "\n",
    "for train_index, test_index in sss.split(X_train, y_train):\n",
    "    X_train_split, X_test_split = X_train[train_index], X_train[test_index]\n",
    "    y_train_split, y_test_split = y_train[train_index], y_train[test_index]\n",
    "    gs_clf = gs_clf.fit(X_train_split, y_train_split)\n",
    "    \n",
    "    scores.append(gs_clf.score(X_test_split, y_test_split))\n",
    "    gs_scores.append(gs_clf.score(X_test, y_test))"
   ]
  },
  {
   "cell_type": "code",
   "execution_count": 7,
   "metadata": {},
   "outputs": [
    {
     "name": "stdout",
     "output_type": "stream",
     "text": [
      "Mean score:  0.7624750499001997\n",
      "Mean grid search score:  0.7685851318944844\n",
      "Best parameters:  {'clf__alpha': 0.01, 'tfidf__use_idf': True}\n",
      "Best score:  0.7641196013289037\n",
      "Classification report:\n",
      "               precision    recall  f1-score   support\n",
      "\n",
      "     moldova       0.77      1.00      0.87       631\n",
      "      romana       1.00      0.05      0.09       203\n",
      "\n",
      "    accuracy                           0.77       834\n",
      "   macro avg       0.88      0.52      0.48       834\n",
      "weighted avg       0.82      0.77      0.68       834\n",
      "\n"
     ]
    }
   ],
   "source": [
    "print(\"Mean score: \", np.mean(scores))\n",
    "print(\"Mean grid search score: \", np.mean(gs_scores))\n",
    "print(\"Best parameters: \", gs_clf.best_params_)\n",
    "print(\"Best score: \", gs_clf.best_score_)\n",
    "print(\"Classification report:\\n\", classification_report(y_test, gs_clf.predict(X_test), ))"
   ]
  },
  {
   "cell_type": "code",
   "execution_count": 8,
   "metadata": {},
   "outputs": [
    {
     "name": "stderr",
     "output_type": "stream",
     "text": [
      "Some weights of the model checkpoint at xlm-roberta-base were not used when initializing XLMRobertaModel: ['lm_head.dense.weight', 'lm_head.bias', 'lm_head.layer_norm.weight', 'lm_head.layer_norm.bias', 'lm_head.dense.bias']\n",
      "- This IS expected if you are initializing XLMRobertaModel from the checkpoint of a model trained on another task or with another architecture (e.g. initializing a BertForSequenceClassification model from a BertForPreTraining model).\n",
      "- This IS NOT expected if you are initializing XLMRobertaModel from the checkpoint of a model that you expect to be exactly identical (initializing a BertForSequenceClassification model from a BertForSequenceClassification model).\n",
      "Some weights of the model checkpoint at xlm-roberta-base were not used when initializing XLMRobertaModel: ['lm_head.dense.weight', 'lm_head.bias', 'lm_head.layer_norm.weight', 'lm_head.layer_norm.bias', 'lm_head.dense.bias']\n",
      "- This IS expected if you are initializing XLMRobertaModel from the checkpoint of a model trained on another task or with another architecture (e.g. initializing a BertForSequenceClassification model from a BertForPreTraining model).\n",
      "- This IS NOT expected if you are initializing XLMRobertaModel from the checkpoint of a model that you expect to be exactly identical (initializing a BertForSequenceClassification model from a BertForSequenceClassification model).\n"
     ]
    }
   ],
   "source": [
    "from cube.api import Cube\n",
    "\n",
    "cube_nlp = Cube(verbose=True)\n",
    "\n",
    "cube_nlp.load(\"ro\")\n",
    "\n"
   ]
  },
  {
   "cell_type": "code",
   "execution_count": 13,
   "metadata": {},
   "outputs": [
    {
     "name": "stdout",
     "output_type": "stream",
     "text": [
      "<class 'cube.io_utils.objects.Document'>\n",
      "<class 'cube.io_utils.objects.Document'>\n",
      "[]\n",
      "[]\n"
     ]
    }
   ],
   "source": [
    "def get_most_common_pos_cube(texts, n=10):\n",
    "    pos = {}\n",
    "    tokenized_texts = []\n",
    "    for text in texts:\n",
    "        if len(text) > 512:\n",
    "            try:\n",
    "                small_text = ''\n",
    "                text = text.split(' ')\n",
    "                while len(small_text) + text[0] <= 512:\n",
    "                    small_text += text[0]\n",
    "                    text = text[1:]\n",
    "                text = ' '.join(text)\n",
    "                doc = cube_nlp(small_text)\n",
    "            except:\n",
    "                continue\n",
    "            \n",
    "        try:\n",
    "            doc = cube_nlp(text)\n",
    "        except:\n",
    "            continue\n",
    "        \n",
    "        print(type(doc))\n",
    "        break\n",
    "            \n",
    "        tokenized_texts.append([token.pos_ for token in doc])\n",
    "    return [sorted(pos.items(), key=lambda x: x[1], reverse=True)[:n], tokenized_texts]\n",
    "\n",
    "mc_romana_cube, tk_romana_cube = get_most_common_pos_cube(all_texts[\"romana\"])\n",
    "mc_moldova_cube, tk_moldova_cube = get_most_common_pos_cube(all_texts[\"moldova\"])\n",
    "\n",
    "print(tk_romana_cube[:10])\n",
    "print(tk_moldova_cube[:10])"
   ]
  },
  {
   "cell_type": "code",
   "execution_count": null,
   "metadata": {},
   "outputs": [],
   "source": [
    "# Train a classifier using the most common parts of speech\n",
    "X = tk_romana_cube + tk_moldova_cube\n",
    "y = [\"romana\"] * len(tk_romana_cube[\"romana\"]) + [\"moldova\"] * len(tk_moldova_cube[\"moldova\"])\n",
    "\n",
    "X = np.array([' '.join(tag) for tag in X])\n",
    "y = np.array(y)\n",
    "\n",
    "X_train, X_test, y_train, y_test = train_test_split(X, y, test_size=0.2, random_state=1)\n",
    "\n",
    "sss = StratifiedShuffleSplit(n_splits=3, test_size=0.1, random_state=11)\n",
    "\n",
    "text_clf = Pipeline([\n",
    "    ('tfidf', TfidfVectorizer()),\n",
    "    ('clf', MultinomialNB())\n",
    "])\n",
    "\n",
    "parameters = {\n",
    "    'tfidf__use_idf': (True, False),\n",
    "    'clf__alpha': (0.01, 0.001)\n",
    "}\n",
    "\n",
    "gs_clf = GridSearchCV(text_clf, parameters, cv=sss, n_jobs=-1, verbose=1)\n",
    "\n",
    "scores = []\n",
    "gs_scores = []\n",
    "\n",
    "for train_index, test_index in sss.split(X_train, y_train):\n",
    "    X_train_split, X_test_split = X_train[train_index], X_train[test_index]\n",
    "    y_train_split, y_test_split = y_train[train_index], y_train[test_index]\n",
    "    gs_clf = gs_clf.fit(X_train_split, y_train_split)\n",
    "    \n",
    "    scores.append(gs_clf.score(X_test_split, y_test_split))\n",
    "    gs_scores.append(gs_clf.score(X_test, y_test))"
   ]
  },
  {
   "cell_type": "code",
   "execution_count": null,
   "metadata": {},
   "outputs": [],
   "source": [
    "print(\"Mean score: \", np.mean(scores))\n",
    "print(\"Mean grid search score: \", np.mean(gs_scores))\n",
    "print(\"Best parameters: \", gs_clf.best_params_)\n",
    "print(\"Best score: \", gs_clf.best_score_)\n",
    "print(\"Classification report: \", classification_report(y_test, gs_clf.predict(X_test), ))"
   ]
  }
 ],
 "metadata": {
  "kernelspec": {
   "display_name": "venv",
   "language": "python",
   "name": "python3"
  },
  "language_info": {
   "codemirror_mode": {
    "name": "ipython",
    "version": 3
   },
   "file_extension": ".py",
   "mimetype": "text/x-python",
   "name": "python",
   "nbconvert_exporter": "python",
   "pygments_lexer": "ipython3",
   "version": "3.10.12"
  }
 },
 "nbformat": 4,
 "nbformat_minor": 2
}
