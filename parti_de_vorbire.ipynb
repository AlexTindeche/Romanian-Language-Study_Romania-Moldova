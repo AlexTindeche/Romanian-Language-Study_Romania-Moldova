{
 "cells": [
  {
   "cell_type": "code",
   "execution_count": 2,
   "metadata": {},
   "outputs": [
    {
     "name": "stderr",
     "output_type": "stream",
     "text": [
      "IProgress not found. Please update jupyter and ipywidgets. See https://ipywidgets.readthedocs.io/en/stable/user_install.html\n"
     ]
    }
   ],
   "source": [
    "import numpy as np\n",
    "import sqlite3\n",
    "from sklearn.model_selection import train_test_split, StratifiedShuffleSplit\n",
    "from sklearn.feature_extraction.text import TfidfVectorizer\n",
    "from sklearn.feature_extraction.text import CountVectorizer\n",
    "from sklearn.pipeline import Pipeline\n",
    "from sklearn.naive_bayes import MultinomialNB\n",
    "from sklearn.model_selection import GridSearchCV\n",
    "from sklearn.metrics import classification_report\n",
    "from stop_words import get_stop_words\n",
    "import shap\n",
    "import warnings\n",
    "\n",
    "warnings.filterwarnings(\"ignore\")"
   ]
  },
  {
   "cell_type": "code",
   "execution_count": 3,
   "metadata": {},
   "outputs": [],
   "source": [
    "romanian_texts = {}\n",
    "moldavian_texts = {}\n",
    "\n",
    "conn = sqlite3.connect('news.db')\n",
    "c = conn.cursor()\n",
    "\n",
    "c.execute('SELECT * FROM romania')\n",
    "rows = c.fetchall()\n",
    "for row in rows:\n",
    "    if row[4] not in romanian_texts:\n",
    "        romanian_texts[row[4]] = []\n",
    "    romanian_texts[row[4]].append(row[5])\n",
    "    \n",
    "c.execute('SELECT * FROM moldova WHERE newspaper != \"zugo\"')\n",
    "rows = c.fetchall()\n",
    "for row in rows:\n",
    "    text = ''\n",
    "    if len(row[5]) > 10000:\n",
    "        text = row[5][:10000]\n",
    "    else:\n",
    "        text = row[5]\n",
    "    if row[4] not in moldavian_texts:\n",
    "        moldavian_texts[row[4]] = []\n",
    "        \n",
    "    moldavian_texts[row[4]].append(text)\n",
    "\n",
    "conn.close()"
   ]
  },
  {
   "cell_type": "code",
   "execution_count": 4,
   "metadata": {},
   "outputs": [],
   "source": [
    "all_texts = {\"romana\": [], \"moldova\": []}\n",
    "\n",
    "for key in romanian_texts:\n",
    "    all_texts[\"romana\"].extend(romanian_texts[key])\n",
    "\n",
    "    \n",
    "for key in moldavian_texts:\n",
    "    all_texts[\"moldova\"].extend(moldavian_texts[key])\n",
    "    "
   ]
  },
  {
   "cell_type": "code",
   "execution_count": null,
   "metadata": {},
   "outputs": [],
   "source": [
    "!python -m spacy download ro_core_news_md"
   ]
  },
  {
   "cell_type": "code",
   "execution_count": 5,
   "metadata": {},
   "outputs": [],
   "source": [
    "# Extract most common parts of speech with spacy\n",
    "import spacy\n",
    "\n",
    "nlp = spacy.load('ro_core_news_md')\n",
    "\n",
    "def get_most_common_pos(texts, n=10):\n",
    "    pos = {}\n",
    "    tokenized_texts = []\n",
    "    for text in texts:\n",
    "        doc = nlp(text)\n",
    "        for token in doc:\n",
    "            if token.pos_ not in pos:\n",
    "                pos[token.pos_] = 0\n",
    "            pos[token.pos_] += 1\n",
    "            \n",
    "        tokenized_texts.append([token.pos_ for token in doc])\n",
    "        \n",
    "    return [sorted(pos.items(), key=lambda x: x[1], reverse=True)[:n], tokenized_texts]\n",
    "\n",
    "mc_romana, tk_romana = get_most_common_pos(all_texts[\"romana\"])\n",
    "mc_moldova, tk_moldova = get_most_common_pos(all_texts[\"moldova\"])"
   ]
  },
  {
   "cell_type": "code",
   "execution_count": 6,
   "metadata": {},
   "outputs": [
    {
     "name": "stdout",
     "output_type": "stream",
     "text": [
      "Fitting 3 folds for each of 4 candidates, totalling 12 fits\n",
      "Fitting 3 folds for each of 4 candidates, totalling 12 fits\n",
      "Fitting 3 folds for each of 4 candidates, totalling 12 fits\n"
     ]
    }
   ],
   "source": [
    "X = tk_romana + tk_moldova\n",
    "y = [\"romana\"] * len(tk_romana) + [\"moldova\"] * len(tk_moldova)\n",
    "\n",
    "X = np.array([' '.join(tag) for tag in X])\n",
    "y = np.array(y)\n",
    "\n",
    "X_train, X_test, y_train, y_test = train_test_split(X, y, test_size=0.2, random_state=1)\n",
    "\n",
    "sss = StratifiedShuffleSplit(n_splits=3, test_size=0.1, random_state=11)\n",
    "\n",
    "text_clf = Pipeline([\n",
    "    ('tfidf', TfidfVectorizer()),\n",
    "    ('clf', MultinomialNB())\n",
    "])\n",
    "\n",
    "parameters = {\n",
    "    'tfidf__use_idf': (True, False),\n",
    "    'clf__alpha': (0.01, 0.001)\n",
    "}\n",
    "\n",
    "gs_clf = GridSearchCV(text_clf, parameters, cv=sss, n_jobs=-1, verbose=1)\n",
    "\n",
    "scores = []\n",
    "gs_scores = []\n",
    "\n",
    "for train_index, test_index in sss.split(X_train, y_train):\n",
    "    X_train_split, X_test_split = X_train[train_index], X_train[test_index]\n",
    "    y_train_split, y_test_split = y_train[train_index], y_train[test_index]\n",
    "    gs_clf = gs_clf.fit(X_train_split, y_train_split)\n",
    "    \n",
    "    scores.append(gs_clf.score(X_test_split, y_test_split))\n",
    "    gs_scores.append(gs_clf.score(X_test, y_test))"
   ]
  },
  {
   "cell_type": "code",
   "execution_count": 8,
   "metadata": {},
   "outputs": [
    {
     "name": "stdout",
     "output_type": "stream",
     "text": [
      "Mean score:  0.7624750499001997\n",
      "Mean grid search score:  0.7685851318944844\n",
      "Best parameters:  {'clf__alpha': 0.01, 'tfidf__use_idf': True}\n",
      "Best score:  0.7641196013289037\n",
      "Classification report:\n",
      "               precision    recall  f1-score   support\n",
      "\n",
      "     moldova       0.77      1.00      0.87       631\n",
      "      romana       1.00      0.05      0.09       203\n",
      "\n",
      "    accuracy                           0.77       834\n",
      "   macro avg       0.88      0.52      0.48       834\n",
      "weighted avg       0.82      0.77      0.68       834\n",
      "\n"
     ]
    }
   ],
   "source": [
    "print(\"Mean score: \", np.mean(scores))\n",
    "print(\"Mean grid search score: \", np.mean(gs_scores))\n",
    "print(\"Best parameters: \", gs_clf.best_params_)\n",
    "print(\"Best score: \", gs_clf.best_score_)\n",
    "print(\"Classification report:\\n\", classification_report(y_test, gs_clf.predict(X_test), ))"
   ]
  },
  {
   "cell_type": "code",
   "execution_count": 43,
   "metadata": {},
   "outputs": [
    {
     "name": "stderr",
     "output_type": "stream",
     "text": [
      "Some weights of the model checkpoint at xlm-roberta-base were not used when initializing XLMRobertaModel: ['lm_head.dense.bias', 'lm_head.bias', 'lm_head.dense.weight', 'lm_head.layer_norm.weight', 'lm_head.layer_norm.bias']\n",
      "- This IS expected if you are initializing XLMRobertaModel from the checkpoint of a model trained on another task or with another architecture (e.g. initializing a BertForSequenceClassification model from a BertForPreTraining model).\n",
      "- This IS NOT expected if you are initializing XLMRobertaModel from the checkpoint of a model that you expect to be exactly identical (initializing a BertForSequenceClassification model from a BertForSequenceClassification model).\n",
      "Some weights of the model checkpoint at xlm-roberta-base were not used when initializing XLMRobertaModel: ['lm_head.dense.bias', 'lm_head.bias', 'lm_head.dense.weight', 'lm_head.layer_norm.weight', 'lm_head.layer_norm.bias']\n",
      "- This IS expected if you are initializing XLMRobertaModel from the checkpoint of a model trained on another task or with another architecture (e.g. initializing a BertForSequenceClassification model from a BertForPreTraining model).\n",
      "- This IS NOT expected if you are initializing XLMRobertaModel from the checkpoint of a model that you expect to be exactly identical (initializing a BertForSequenceClassification model from a BertForSequenceClassification model).\n"
     ]
    }
   ],
   "source": [
    "from cube.api import Cube\n",
    "\n",
    "cube_nlp = Cube(verbose=True)\n",
    "\n",
    "cube_nlp.load(\"ro\")"
   ]
  },
  {
   "cell_type": "code",
   "execution_count": 47,
   "metadata": {},
   "outputs": [
    {
     "ename": "IndexError",
     "evalue": "list index out of range",
     "output_type": "error",
     "traceback": [
      "\u001b[0;31m---------------------------------------------------------------------------\u001b[0m",
      "\u001b[0;31mIndexError\u001b[0m                                Traceback (most recent call last)",
      "Cell \u001b[0;32mIn[47], line 16\u001b[0m\n\u001b[1;32m     13\u001b[0m         tokenized_texts\u001b[38;5;241m.\u001b[39mappend([token\u001b[38;5;241m.\u001b[39mpos_ \u001b[38;5;28;01mfor\u001b[39;00m token \u001b[38;5;129;01min\u001b[39;00m doc])\n\u001b[1;32m     14\u001b[0m     \u001b[38;5;28;01mreturn\u001b[39;00m [\u001b[38;5;28msorted\u001b[39m(pos\u001b[38;5;241m.\u001b[39mitems(), key\u001b[38;5;241m=\u001b[39m\u001b[38;5;28;01mlambda\u001b[39;00m x: x[\u001b[38;5;241m1\u001b[39m], reverse\u001b[38;5;241m=\u001b[39m\u001b[38;5;28;01mTrue\u001b[39;00m)[:n], tokenized_texts]\n\u001b[0;32m---> 16\u001b[0m mc_romana_cube, tk_romana_cube \u001b[38;5;241m=\u001b[39m \u001b[43mget_most_common_pos_cube\u001b[49m\u001b[43m(\u001b[49m\u001b[43mall_texts\u001b[49m\u001b[43m[\u001b[49m\u001b[38;5;124;43m\"\u001b[39;49m\u001b[38;5;124;43mromana\u001b[39;49m\u001b[38;5;124;43m\"\u001b[39;49m\u001b[43m]\u001b[49m\u001b[43m)\u001b[49m\n\u001b[1;32m     17\u001b[0m mc_moldova_cube, tk_moldova_cube \u001b[38;5;241m=\u001b[39m get_most_common_pos_cube(all_texts[\u001b[38;5;124m\"\u001b[39m\u001b[38;5;124mmoldova\u001b[39m\u001b[38;5;124m\"\u001b[39m])\n",
      "Cell \u001b[0;32mIn[47], line 7\u001b[0m, in \u001b[0;36mget_most_common_pos_cube\u001b[0;34m(texts, n)\u001b[0m\n\u001b[1;32m      5\u001b[0m \u001b[38;5;28;01mif\u001b[39;00m \u001b[38;5;28mlen\u001b[39m(text) \u001b[38;5;241m>\u001b[39m \u001b[38;5;241m512\u001b[39m:\n\u001b[1;32m      6\u001b[0m     text \u001b[38;5;241m=\u001b[39m text[:\u001b[38;5;241m512\u001b[39m]\n\u001b[0;32m----> 7\u001b[0m doc \u001b[38;5;241m=\u001b[39m \u001b[43mcube_nlp\u001b[49m\u001b[43m(\u001b[49m\u001b[43mtext\u001b[49m\u001b[43m)\u001b[49m\n\u001b[1;32m      8\u001b[0m \u001b[38;5;28;01mfor\u001b[39;00m token \u001b[38;5;129;01min\u001b[39;00m doc:\n\u001b[1;32m      9\u001b[0m     \u001b[38;5;28;01mif\u001b[39;00m token\u001b[38;5;241m.\u001b[39mpos \u001b[38;5;129;01mnot\u001b[39;00m \u001b[38;5;129;01min\u001b[39;00m pos:\n",
      "File \u001b[0;32m~/Desktop/Facultate/ArheologiaMasinilorInteligente/Romanian-Language-Study_Romania-Moldova/venv/lib/python3.10/site-packages/cube/api.py:211\u001b[0m, in \u001b[0;36mCube.__call__\u001b[0;34m(self, text, flavour)\u001b[0m\n\u001b[1;32m    210\u001b[0m \u001b[38;5;28;01mdef\u001b[39;00m \u001b[38;5;21m__call__\u001b[39m(\u001b[38;5;28mself\u001b[39m, text: Union[\u001b[38;5;28mstr\u001b[39m, Document], flavour: Optional[\u001b[38;5;28mstr\u001b[39m] \u001b[38;5;241m=\u001b[39m \u001b[38;5;28;01mNone\u001b[39;00m):\n\u001b[0;32m--> 211\u001b[0m     \u001b[38;5;28;01mreturn\u001b[39;00m \u001b[38;5;28;43mself\u001b[39;49m\u001b[38;5;241;43m.\u001b[39;49m\u001b[43m_instance\u001b[49m\u001b[43m(\u001b[49m\u001b[43mtext\u001b[49m\u001b[43m,\u001b[49m\u001b[43m \u001b[49m\u001b[43mflavour\u001b[49m\u001b[38;5;241;43m=\u001b[39;49m\u001b[43mflavour\u001b[49m\u001b[43m)\u001b[49m\n",
      "File \u001b[0;32m~/Desktop/Facultate/ArheologiaMasinilorInteligente/Romanian-Language-Study_Romania-Moldova/venv/lib/python3.10/site-packages/cube/api.py:126\u001b[0m, in \u001b[0;36mCubeObj.__call__\u001b[0;34m(self, text, flavour)\u001b[0m\n\u001b[1;32m    124\u001b[0m \u001b[38;5;28mself\u001b[39m\u001b[38;5;241m.\u001b[39m_lm_helper\u001b[38;5;241m.\u001b[39mapply(doc)\n\u001b[1;32m    125\u001b[0m \u001b[38;5;28mself\u001b[39m\u001b[38;5;241m.\u001b[39m_parser\u001b[38;5;241m.\u001b[39mprocess(doc, \u001b[38;5;28mself\u001b[39m\u001b[38;5;241m.\u001b[39m_parser_collate, num_workers\u001b[38;5;241m=\u001b[39m\u001b[38;5;241m0\u001b[39m)\n\u001b[0;32m--> 126\u001b[0m \u001b[38;5;28;43mself\u001b[39;49m\u001b[38;5;241;43m.\u001b[39;49m\u001b[43m_lemmatizer\u001b[49m\u001b[38;5;241;43m.\u001b[39;49m\u001b[43mprocess\u001b[49m\u001b[43m(\u001b[49m\u001b[43mdoc\u001b[49m\u001b[43m,\u001b[49m\u001b[43m \u001b[49m\u001b[38;5;28;43mself\u001b[39;49m\u001b[38;5;241;43m.\u001b[39;49m\u001b[43m_lemmatizer_collate\u001b[49m\u001b[43m,\u001b[49m\u001b[43m \u001b[49m\u001b[43mnum_workers\u001b[49m\u001b[38;5;241;43m=\u001b[39;49m\u001b[38;5;241;43m0\u001b[39;49m\u001b[43m)\u001b[49m\n\u001b[1;32m    128\u001b[0m \u001b[38;5;28;01mreturn\u001b[39;00m doc\n",
      "File \u001b[0;32m~/Desktop/Facultate/ArheologiaMasinilorInteligente/Romanian-Language-Study_Romania-Moldova/venv/lib/python3.10/site-packages/cube/networks/lemmatizer.py:228\u001b[0m, in \u001b[0;36mLemmatizer.process\u001b[0;34m(self, doc, collate, batch_size, num_workers)\u001b[0m\n\u001b[1;32m    226\u001b[0m     \u001b[38;5;28;01mfor\u001b[39;00m sentence_index \u001b[38;5;129;01min\u001b[39;00m \u001b[38;5;28mrange\u001b[39m(\u001b[38;5;28mlen\u001b[39m(doc\u001b[38;5;241m.\u001b[39msentences)):\n\u001b[1;32m    227\u001b[0m         \u001b[38;5;28;01mfor\u001b[39;00m word_index \u001b[38;5;129;01min\u001b[39;00m \u001b[38;5;28mrange\u001b[39m(\u001b[38;5;28mlen\u001b[39m(doc\u001b[38;5;241m.\u001b[39msentences[sentence_index]\u001b[38;5;241m.\u001b[39mwords)):\n\u001b[0;32m--> 228\u001b[0m             doc\u001b[38;5;241m.\u001b[39msentences[sentence_index]\u001b[38;5;241m.\u001b[39mwords[word_index]\u001b[38;5;241m.\u001b[39mlemma \u001b[38;5;241m=\u001b[39m \u001b[43mall_lemmas\u001b[49m\u001b[43m[\u001b[49m\u001b[43mlemma_index\u001b[49m\u001b[43m]\u001b[49m\n\u001b[1;32m    229\u001b[0m             lemma_index \u001b[38;5;241m+\u001b[39m\u001b[38;5;241m=\u001b[39m \u001b[38;5;241m1\u001b[39m\n\u001b[1;32m    231\u001b[0m \u001b[38;5;28;01mreturn\u001b[39;00m doc\n",
      "\u001b[0;31mIndexError\u001b[0m: list index out of range"
     ]
    }
   ],
   "source": [
    "def get_most_common_pos_cube(texts, n=10):\n",
    "    pos = {}\n",
    "    tokenized_texts = []\n",
    "    for text in texts:\n",
    "        if len(text) > 512:\n",
    "            text = text[:512]\n",
    "        doc = cube_nlp(text)\n",
    "        for token in doc:\n",
    "            if token.pos not in pos:\n",
    "                pos[token.pos] = 0\n",
    "            pos[token.pos] += 1\n",
    "            \n",
    "        tokenized_texts.append([token.pos_ for token in doc])\n",
    "    return [sorted(pos.items(), key=lambda x: x[1], reverse=True)[:n], tokenized_texts]\n",
    "\n",
    "mc_romana_cube, tk_romana_cube = get_most_common_pos_cube(all_texts[\"romana\"])\n",
    "mc_moldova_cube, tk_moldova_cube = get_most_common_pos_cube(all_texts[\"moldova\"])"
   ]
  },
  {
   "cell_type": "code",
   "execution_count": null,
   "metadata": {},
   "outputs": [],
   "source": [
    "# Train a classifier using the most common parts of speech\n",
    "X = tk_romana_cube + tk_moldova_cube\n",
    "y = [\"romana\"] * len(tk_romana_cube[\"romana\"]) + [\"moldova\"] * len(tk_moldova_cube[\"moldova\"])\n",
    "\n",
    "X = np.array([' '.join(tag) for tag in X])\n",
    "y = np.array(y)\n",
    "\n",
    "X_train, X_test, y_train, y_test = train_test_split(X, y, test_size=0.2, random_state=1)\n",
    "\n",
    "sss = StratifiedShuffleSplit(n_splits=3, test_size=0.1, random_state=11)\n",
    "\n",
    "text_clf = Pipeline([\n",
    "    ('tfidf', TfidfVectorizer()),\n",
    "    ('clf', MultinomialNB())\n",
    "])\n",
    "\n",
    "parameters = {\n",
    "    'tfidf__use_idf': (True, False),\n",
    "    'clf__alpha': (0.01, 0.001)\n",
    "}\n",
    "\n",
    "gs_clf = GridSearchCV(text_clf, parameters, cv=sss, n_jobs=-1, verbose=1)\n",
    "\n",
    "scores = []\n",
    "gs_scores = []\n",
    "\n",
    "for train_index, test_index in sss.split(X_train, y_train):\n",
    "    X_train_split, X_test_split = X_train[train_index], X_train[test_index]\n",
    "    y_train_split, y_test_split = y_train[train_index], y_train[test_index]\n",
    "    gs_clf = gs_clf.fit(X_train_split, y_train_split)\n",
    "    \n",
    "    scores.append(gs_clf.score(X_test_split, y_test_split))\n",
    "    gs_scores.append(gs_clf.score(X_test, y_test))"
   ]
  },
  {
   "cell_type": "code",
   "execution_count": null,
   "metadata": {},
   "outputs": [],
   "source": [
    "print(\"Mean score: \", np.mean(scores))\n",
    "print(\"Mean grid search score: \", np.mean(gs_scores))\n",
    "print(\"Best parameters: \", gs_clf.best_params_)\n",
    "print(\"Best score: \", gs_clf.best_score_)\n",
    "print(\"Classification report: \", classification_report(y_test, gs_clf.predict(X_test), ))"
   ]
  }
 ],
 "metadata": {
  "kernelspec": {
   "display_name": "venv",
   "language": "python",
   "name": "python3"
  },
  "language_info": {
   "codemirror_mode": {
    "name": "ipython",
    "version": 3
   },
   "file_extension": ".py",
   "mimetype": "text/x-python",
   "name": "python",
   "nbconvert_exporter": "python",
   "pygments_lexer": "ipython3",
   "version": "3.10.12"
  }
 },
 "nbformat": 4,
 "nbformat_minor": 2
}
